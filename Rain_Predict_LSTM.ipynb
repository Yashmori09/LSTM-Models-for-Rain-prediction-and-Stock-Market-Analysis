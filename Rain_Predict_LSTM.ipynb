{
  "nbformat": 4,
  "nbformat_minor": 0,
  "metadata": {
    "colab": {
      "provenance": []
    },
    "kernelspec": {
      "name": "python3",
      "display_name": "Python 3"
    },
    "language_info": {
      "name": "python"
    },
    "gpuClass": "standard"
  },
  "cells": [
    {
      "cell_type": "markdown",
      "source": [
        "Name: YASH MORI \n",
        "\n",
        "Roll No: 20BCP113\n"
      ],
      "metadata": {
        "id": "17f-rmhvYU1E"
      }
    },
    {
      "cell_type": "code",
      "execution_count": null,
      "source": [
        "from google.colab import drive\n",
        "drive.mount('/content/drive')"
      ],
      "outputs": [
        {
          "output_type": "stream",
          "name": "stdout",
          "text": [
            "Mounted at /content/drive\n"
          ]
        }
      ],
      "metadata": {
        "colab": {
          "base_uri": "https://localhost:8080/"
        },
        "id": "zgEFu3ls4H6C",
        "outputId": "4853ea60-b8a6-4b72-de37-058a737db17b"
      }
    },
    {
      "cell_type": "code",
      "execution_count": null,
      "source": [
        "import numpy as np\n",
        "import pandas as pd\n",
        "import matplotlib.pyplot as plt\n",
        "from sklearn.model_selection import train_test_split\n",
        "from keras.preprocessing.sequence import TimeseriesGenerator\n",
        "from sklearn.preprocessing import MinMaxScaler"
      ],
      "outputs": [],
      "metadata": {
        "id": "1oQS_SAE5P2d"
      }
    },
    {
      "cell_type": "code",
      "execution_count": null,
      "source": [
        "df = pd.read_csv('/content/Weather_Bhopal.csv')\n",
        "df.head()"
      ],
      "outputs": [
        {
          "output_type": "execute_result",
          "data": {
            "text/plain": [
              "       DATE  MAX_TEMP  MIN_TEMP  RAINFALL_24_HRS\n",
              "0  1/1/2020      18.5       9.7              0.0\n",
              "1  1/2/2020      20.3      12.0              0.0\n",
              "2  1/3/2020      20.7      14.0              0.0\n",
              "3  1/4/2020      20.5      11.0              0.0\n",
              "4  1/5/2020      17.0       7.2              0.0"
            ],
            "text/html": [
              "\n",
              "  <div id=\"df-5fac1933-da3b-4daa-b0d7-10915ea1895f\">\n",
              "    <div class=\"colab-df-container\">\n",
              "      <div>\n",
              "<style scoped>\n",
              "    .dataframe tbody tr th:only-of-type {\n",
              "        vertical-align: middle;\n",
              "    }\n",
              "\n",
              "    .dataframe tbody tr th {\n",
              "        vertical-align: top;\n",
              "    }\n",
              "\n",
              "    .dataframe thead th {\n",
              "        text-align: right;\n",
              "    }\n",
              "</style>\n",
              "<table border=\"1\" class=\"dataframe\">\n",
              "  <thead>\n",
              "    <tr style=\"text-align: right;\">\n",
              "      <th></th>\n",
              "      <th>DATE</th>\n",
              "      <th>MAX_TEMP</th>\n",
              "      <th>MIN_TEMP</th>\n",
              "      <th>RAINFALL_24_HRS</th>\n",
              "    </tr>\n",
              "  </thead>\n",
              "  <tbody>\n",
              "    <tr>\n",
              "      <th>0</th>\n",
              "      <td>1/1/2020</td>\n",
              "      <td>18.5</td>\n",
              "      <td>9.7</td>\n",
              "      <td>0.0</td>\n",
              "    </tr>\n",
              "    <tr>\n",
              "      <th>1</th>\n",
              "      <td>1/2/2020</td>\n",
              "      <td>20.3</td>\n",
              "      <td>12.0</td>\n",
              "      <td>0.0</td>\n",
              "    </tr>\n",
              "    <tr>\n",
              "      <th>2</th>\n",
              "      <td>1/3/2020</td>\n",
              "      <td>20.7</td>\n",
              "      <td>14.0</td>\n",
              "      <td>0.0</td>\n",
              "    </tr>\n",
              "    <tr>\n",
              "      <th>3</th>\n",
              "      <td>1/4/2020</td>\n",
              "      <td>20.5</td>\n",
              "      <td>11.0</td>\n",
              "      <td>0.0</td>\n",
              "    </tr>\n",
              "    <tr>\n",
              "      <th>4</th>\n",
              "      <td>1/5/2020</td>\n",
              "      <td>17.0</td>\n",
              "      <td>7.2</td>\n",
              "      <td>0.0</td>\n",
              "    </tr>\n",
              "  </tbody>\n",
              "</table>\n",
              "</div>\n",
              "      <button class=\"colab-df-convert\" onclick=\"convertToInteractive('df-5fac1933-da3b-4daa-b0d7-10915ea1895f')\"\n",
              "              title=\"Convert this dataframe to an interactive table.\"\n",
              "              style=\"display:none;\">\n",
              "        \n",
              "  <svg xmlns=\"http://www.w3.org/2000/svg\" height=\"24px\"viewBox=\"0 0 24 24\"\n",
              "       width=\"24px\">\n",
              "    <path d=\"M0 0h24v24H0V0z\" fill=\"none\"/>\n",
              "    <path d=\"M18.56 5.44l.94 2.06.94-2.06 2.06-.94-2.06-.94-.94-2.06-.94 2.06-2.06.94zm-11 1L8.5 8.5l.94-2.06 2.06-.94-2.06-.94L8.5 2.5l-.94 2.06-2.06.94zm10 10l.94 2.06.94-2.06 2.06-.94-2.06-.94-.94-2.06-.94 2.06-2.06.94z\"/><path d=\"M17.41 7.96l-1.37-1.37c-.4-.4-.92-.59-1.43-.59-.52 0-1.04.2-1.43.59L10.3 9.45l-7.72 7.72c-.78.78-.78 2.05 0 2.83L4 21.41c.39.39.9.59 1.41.59.51 0 1.02-.2 1.41-.59l7.78-7.78 2.81-2.81c.8-.78.8-2.07 0-2.86zM5.41 20L4 18.59l7.72-7.72 1.47 1.35L5.41 20z\"/>\n",
              "  </svg>\n",
              "      </button>\n",
              "      \n",
              "  <style>\n",
              "    .colab-df-container {\n",
              "      display:flex;\n",
              "      flex-wrap:wrap;\n",
              "      gap: 12px;\n",
              "    }\n",
              "\n",
              "    .colab-df-convert {\n",
              "      background-color: #E8F0FE;\n",
              "      border: none;\n",
              "      border-radius: 50%;\n",
              "      cursor: pointer;\n",
              "      display: none;\n",
              "      fill: #1967D2;\n",
              "      height: 32px;\n",
              "      padding: 0 0 0 0;\n",
              "      width: 32px;\n",
              "    }\n",
              "\n",
              "    .colab-df-convert:hover {\n",
              "      background-color: #E2EBFA;\n",
              "      box-shadow: 0px 1px 2px rgba(60, 64, 67, 0.3), 0px 1px 3px 1px rgba(60, 64, 67, 0.15);\n",
              "      fill: #174EA6;\n",
              "    }\n",
              "\n",
              "    [theme=dark] .colab-df-convert {\n",
              "      background-color: #3B4455;\n",
              "      fill: #D2E3FC;\n",
              "    }\n",
              "\n",
              "    [theme=dark] .colab-df-convert:hover {\n",
              "      background-color: #434B5C;\n",
              "      box-shadow: 0px 1px 3px 1px rgba(0, 0, 0, 0.15);\n",
              "      filter: drop-shadow(0px 1px 2px rgba(0, 0, 0, 0.3));\n",
              "      fill: #FFFFFF;\n",
              "    }\n",
              "  </style>\n",
              "\n",
              "      <script>\n",
              "        const buttonEl =\n",
              "          document.querySelector('#df-5fac1933-da3b-4daa-b0d7-10915ea1895f button.colab-df-convert');\n",
              "        buttonEl.style.display =\n",
              "          google.colab.kernel.accessAllowed ? 'block' : 'none';\n",
              "\n",
              "        async function convertToInteractive(key) {\n",
              "          const element = document.querySelector('#df-5fac1933-da3b-4daa-b0d7-10915ea1895f');\n",
              "          const dataTable =\n",
              "            await google.colab.kernel.invokeFunction('convertToInteractive',\n",
              "                                                     [key], {});\n",
              "          if (!dataTable) return;\n",
              "\n",
              "          const docLinkHtml = 'Like what you see? Visit the ' +\n",
              "            '<a target=\"_blank\" href=https://colab.research.google.com/notebooks/data_table.ipynb>data table notebook</a>'\n",
              "            + ' to learn more about interactive tables.';\n",
              "          element.innerHTML = '';\n",
              "          dataTable['output_type'] = 'display_data';\n",
              "          await google.colab.output.renderOutput(dataTable, element);\n",
              "          const docLink = document.createElement('div');\n",
              "          docLink.innerHTML = docLinkHtml;\n",
              "          element.appendChild(docLink);\n",
              "        }\n",
              "      </script>\n",
              "    </div>\n",
              "  </div>\n",
              "  "
            ]
          },
          "metadata": {},
          "execution_count": 2
        }
      ],
      "metadata": {
        "colab": {
          "base_uri": "https://localhost:8080/",
          "height": 206
        },
        "id": "iVDIw4kN43VZ",
        "outputId": "16a29148-f6f4-498d-8d53-2a4daf770867"
      }
    },
    {
      "cell_type": "code",
      "execution_count": null,
      "source": [
        "df['DATE'] = pd.to_datetime(df['DATE'], infer_datetime_format=True) "
      ],
      "outputs": [],
      "metadata": {
        "id": "7l-e-o065T-b"
      }
    },
    {
      "cell_type": "code",
      "execution_count": null,
      "source": [
        "# to plot time series data\n",
        "df.set_index('DATE')[['MAX_TEMP', 'MIN_TEMP']].plot(subplots=True)"
      ],
      "outputs": [
        {
          "output_type": "execute_result",
          "data": {
            "text/plain": [
              "array([<Axes: xlabel='DATE'>, <Axes: xlabel='DATE'>], dtype=object)"
            ]
          },
          "metadata": {},
          "execution_count": 4
        },
        {
          "output_type": "display_data",
          "data": {
            "text/plain": [
              "<Figure size 640x480 with 2 Axes>"
            ],
            "image/png": "[encoded data removed]"
          },
          "metadata": {}
        }
      ],
      "metadata": {
        "colab": {
          "base_uri": "https://localhost:8080/",
          "height": 483
        },
        "id": "qEtdzonA5d0S",
        "outputId": "bcad2736-0962-4a80-b3be-03e1bbfb52f6"
      }
    },
    {
      "cell_type": "code",
      "execution_count": null,
      "source": [
        "df.describe()"
      ],
      "outputs": [
        {
          "output_type": "execute_result",
          "data": {
            "text/plain": [
              "         MAX_TEMP    MIN_TEMP  RAINFALL_24_HRS\n",
              "count  456.000000  456.000000        456.00000\n",
              "mean    32.059430   18.298465          2.05693\n",
              "std      6.042076    6.088542          9.35162\n",
              "min     17.000000    4.600000          0.00000\n",
              "25%     28.400000   13.400000          0.00000\n",
              "50%     32.500000   18.600000          0.00000\n",
              "75%     35.500000   24.000000          0.00000\n",
              "max     44.500000   29.900000        126.20000"
            ],
            "text/html": [
              "\n",
              "  <div id=\"df-183408af-1a87-4df5-afd4-61a8fd648249\">\n",
              "    <div class=\"colab-df-container\">\n",
              "      <div>\n",
              "<style scoped>\n",
              "    .dataframe tbody tr th:only-of-type {\n",
              "        vertical-align: middle;\n",
              "    }\n",
              "\n",
              "    .dataframe tbody tr th {\n",
              "        vertical-align: top;\n",
              "    }\n",
              "\n",
              "    .dataframe thead th {\n",
              "        text-align: right;\n",
              "    }\n",
              "</style>\n",
              "<table border=\"1\" class=\"dataframe\">\n",
              "  <thead>\n",
              "    <tr style=\"text-align: right;\">\n",
              "      <th></th>\n",
              "      <th>MAX_TEMP</th>\n",
              "      <th>MIN_TEMP</th>\n",
              "      <th>RAINFALL_24_HRS</th>\n",
              "    </tr>\n",
              "  </thead>\n",
              "  <tbody>\n",
              "    <tr>\n",
              "      <th>count</th>\n",
              "      <td>456.000000</td>\n",
              "      <td>456.000000</td>\n",
              "      <td>456.00000</td>\n",
              "    </tr>\n",
              "    <tr>\n",
              "      <th>mean</th>\n",
              "      <td>32.059430</td>\n",
              "      <td>18.298465</td>\n",
              "      <td>2.05693</td>\n",
              "    </tr>\n",
              "    <tr>\n",
              "      <th>std</th>\n",
              "      <td>6.042076</td>\n",
              "      <td>6.088542</td>\n",
              "      <td>9.35162</td>\n",
              "    </tr>\n",
              "    <tr>\n",
              "      <th>min</th>\n",
              "      <td>17.000000</td>\n",
              "      <td>4.600000</td>\n",
              "      <td>0.00000</td>\n",
              "    </tr>\n",
              "    <tr>\n",
              "      <th>25%</th>\n",
              "      <td>28.400000</td>\n",
              "      <td>13.400000</td>\n",
              "      <td>0.00000</td>\n",
              "    </tr>\n",
              "    <tr>\n",
              "      <th>50%</th>\n",
              "      <td>32.500000</td>\n",
              "      <td>18.600000</td>\n",
              "      <td>0.00000</td>\n",
              "    </tr>\n",
              "    <tr>\n",
              "      <th>75%</th>\n",
              "      <td>35.500000</td>\n",
              "      <td>24.000000</td>\n",
              "      <td>0.00000</td>\n",
              "    </tr>\n",
              "    <tr>\n",
              "      <th>max</th>\n",
              "      <td>44.500000</td>\n",
              "      <td>29.900000</td>\n",
              "      <td>126.20000</td>\n",
              "    </tr>\n",
              "  </tbody>\n",
              "</table>\n",
              "</div>\n",
              "      <button class=\"colab-df-convert\" onclick=\"convertToInteractive('df-183408af-1a87-4df5-afd4-61a8fd648249')\"\n",
              "              title=\"Convert this dataframe to an interactive table.\"\n",
              "              style=\"display:none;\">\n",
              "        \n",
              "  <svg xmlns=\"http://www.w3.org/2000/svg\" height=\"24px\"viewBox=\"0 0 24 24\"\n",
              "       width=\"24px\">\n",
              "    <path d=\"M0 0h24v24H0V0z\" fill=\"none\"/>\n",
              "    <path d=\"M18.56 5.44l.94 2.06.94-2.06 2.06-.94-2.06-.94-.94-2.06-.94 2.06-2.06.94zm-11 1L8.5 8.5l.94-2.06 2.06-.94-2.06-.94L8.5 2.5l-.94 2.06-2.06.94zm10 10l.94 2.06.94-2.06 2.06-.94-2.06-.94-.94-2.06-.94 2.06-2.06.94z\"/><path d=\"M17.41 7.96l-1.37-1.37c-.4-.4-.92-.59-1.43-.59-.52 0-1.04.2-1.43.59L10.3 9.45l-7.72 7.72c-.78.78-.78 2.05 0 2.83L4 21.41c.39.39.9.59 1.41.59.51 0 1.02-.2 1.41-.59l7.78-7.78 2.81-2.81c.8-.78.8-2.07 0-2.86zM5.41 20L4 18.59l7.72-7.72 1.47 1.35L5.41 20z\"/>\n",
              "  </svg>\n",
              "      </button>\n",
              "      \n",
              "  <style>\n",
              "    .colab-df-container {\n",
              "      display:flex;\n",
              "      flex-wrap:wrap;\n",
              "      gap: 12px;\n",
              "    }\n",
              "\n",
              "    .colab-df-convert {\n",
              "      background-color: #E8F0FE;\n",
              "      border: none;\n",
              "      border-radius: 50%;\n",
              "      cursor: pointer;\n",
              "      display: none;\n",
              "      fill: #1967D2;\n",
              "      height: 32px;\n",
              "      padding: 0 0 0 0;\n",
              "      width: 32px;\n",
              "    }\n",
              "\n",
              "    .colab-df-convert:hover {\n",
              "      background-color: #E2EBFA;\n",
              "      box-shadow: 0px 1px 2px rgba(60, 64, 67, 0.3), 0px 1px 3px 1px rgba(60, 64, 67, 0.15);\n",
              "      fill: #174EA6;\n",
              "    }\n",
              "\n",
              "    [theme=dark] .colab-df-convert {\n",
              "      background-color: #3B4455;\n",
              "      fill: #D2E3FC;\n",
              "    }\n",
              "\n",
              "    [theme=dark] .colab-df-convert:hover {\n",
              "      background-color: #434B5C;\n",
              "      box-shadow: 0px 1px 3px 1px rgba(0, 0, 0, 0.15);\n",
              "      filter: drop-shadow(0px 1px 2px rgba(0, 0, 0, 0.3));\n",
              "      fill: #FFFFFF;\n",
              "    }\n",
              "  </style>\n",
              "\n",
              "      <script>\n",
              "        const buttonEl =\n",
              "          document.querySelector('#df-183408af-1a87-4df5-afd4-61a8fd648249 button.colab-df-convert');\n",
              "        buttonEl.style.display =\n",
              "          google.colab.kernel.accessAllowed ? 'block' : 'none';\n",
              "\n",
              "        async function convertToInteractive(key) {\n",
              "          const element = document.querySelector('#df-183408af-1a87-4df5-afd4-61a8fd648249');\n",
              "          const dataTable =\n",
              "            await google.colab.kernel.invokeFunction('convertToInteractive',\n",
              "                                                     [key], {});\n",
              "          if (!dataTable) return;\n",
              "\n",
              "          const docLinkHtml = 'Like what you see? Visit the ' +\n",
              "            '<a target=\"_blank\" href=https://colab.research.google.com/notebooks/data_table.ipynb>data table notebook</a>'\n",
              "            + ' to learn more about interactive tables.';\n",
              "          element.innerHTML = '';\n",
              "          dataTable['output_type'] = 'display_data';\n",
              "          await google.colab.output.renderOutput(dataTable, element);\n",
              "          const docLink = document.createElement('div');\n",
              "          docLink.innerHTML = docLinkHtml;\n",
              "          element.appendChild(docLink);\n",
              "        }\n",
              "      </script>\n",
              "    </div>\n",
              "  </div>\n",
              "  "
            ]
          },
          "metadata": {},
          "execution_count": 5
        }
      ],
      "metadata": {
        "colab": {
          "base_uri": "https://localhost:8080/",
          "height": 300
        },
        "id": "oEQfODVZ5wgC",
        "outputId": "ff754118-cc9a-47c3-9056-06aced69386a"
      }
    },
    {
      "cell_type": "code",
      "execution_count": null,
      "source": [
        "df"
      ],
      "outputs": [
        {
          "output_type": "execute_result",
          "data": {
            "text/plain": [
              "          DATE  MAX_TEMP  MIN_TEMP  RAINFALL_24_HRS\n",
              "0   2020-01-01      18.5       9.7              0.0\n",
              "1   2020-01-02      20.3      12.0              0.0\n",
              "2   2020-01-03      20.7      14.0              0.0\n",
              "3   2020-01-04      20.5      11.0              0.0\n",
              "4   2020-01-05      17.0       7.2              0.0\n",
              "..         ...       ...       ...              ...\n",
              "451 2021-03-27      33.7      17.0              0.0\n",
              "452 2021-03-28      36.8      18.4              0.0\n",
              "453 2021-03-29      38.9      19.2              0.0\n",
              "454 2021-03-30      41.0      20.0              0.0\n",
              "455 2021-03-31      40.2      21.0              0.0\n",
              "\n",
              "[456 rows x 4 columns]"
            ],
            "text/html": [
              "\n",
              "  <div id=\"df-85fa49bd-9db4-4459-8fe1-f591cad80206\">\n",
              "    <div class=\"colab-df-container\">\n",
              "      <div>\n",
              "<style scoped>\n",
              "    .dataframe tbody tr th:only-of-type {\n",
              "        vertical-align: middle;\n",
              "    }\n",
              "\n",
              "    .dataframe tbody tr th {\n",
              "        vertical-align: top;\n",
              "    }\n",
              "\n",
              "    .dataframe thead th {\n",
              "        text-align: right;\n",
              "    }\n",
              "</style>\n",
              "<table border=\"1\" class=\"dataframe\">\n",
              "  <thead>\n",
              "    <tr style=\"text-align: right;\">\n",
              "      <th></th>\n",
              "      <th>DATE</th>\n",
              "      <th>MAX_TEMP</th>\n",
              "      <th>MIN_TEMP</th>\n",
              "      <th>RAINFALL_24_HRS</th>\n",
              "    </tr>\n",
              "  </thead>\n",
              "  <tbody>\n",
              "    <tr>\n",
              "      <th>0</th>\n",
              "      <td>2020-01-01</td>\n",
              "      <td>18.5</td>\n",
              "      <td>9.7</td>\n",
              "      <td>0.0</td>\n",
              "    </tr>\n",
              "    <tr>\n",
              "      <th>1</th>\n",
              "      <td>2020-01-02</td>\n",
              "      <td>20.3</td>\n",
              "      <td>12.0</td>\n",
              "      <td>0.0</td>\n",
              "    </tr>\n",
              "    <tr>\n",
              "      <th>2</th>\n",
              "      <td>2020-01-03</td>\n",
              "      <td>20.7</td>\n",
              "      <td>14.0</td>\n",
              "      <td>0.0</td>\n",
              "    </tr>\n",
              "    <tr>\n",
              "      <th>3</th>\n",
              "      <td>2020-01-04</td>\n",
              "      <td>20.5</td>\n",
              "      <td>11.0</td>\n",
              "      <td>0.0</td>\n",
              "    </tr>\n",
              "    <tr>\n",
              "      <th>4</th>\n",
              "      <td>2020-01-05</td>\n",
              "      <td>17.0</td>\n",
              "      <td>7.2</td>\n",
              "      <td>0.0</td>\n",
              "    </tr>\n",
              "    <tr>\n",
              "      <th>...</th>\n",
              "      <td>...</td>\n",
              "      <td>...</td>\n",
              "      <td>...</td>\n",
              "      <td>...</td>\n",
              "    </tr>\n",
              "    <tr>\n",
              "      <th>451</th>\n",
              "      <td>2021-03-27</td>\n",
              "      <td>33.7</td>\n",
              "      <td>17.0</td>\n",
              "      <td>0.0</td>\n",
              "    </tr>\n",
              "    <tr>\n",
              "      <th>452</th>\n",
              "      <td>2021-03-28</td>\n",
              "      <td>36.8</td>\n",
              "      <td>18.4</td>\n",
              "      <td>0.0</td>\n",
              "    </tr>\n",
              "    <tr>\n",
              "      <th>453</th>\n",
              "      <td>2021-03-29</td>\n",
              "      <td>38.9</td>\n",
              "      <td>19.2</td>\n",
              "      <td>0.0</td>\n",
              "    </tr>\n",
              "    <tr>\n",
              "      <th>454</th>\n",
              "      <td>2021-03-30</td>\n",
              "      <td>41.0</td>\n",
              "      <td>20.0</td>\n",
              "      <td>0.0</td>\n",
              "    </tr>\n",
              "    <tr>\n",
              "      <th>455</th>\n",
              "      <td>2021-03-31</td>\n",
              "      <td>40.2</td>\n",
              "      <td>21.0</td>\n",
              "      <td>0.0</td>\n",
              "    </tr>\n",
              "  </tbody>\n",
              "</table>\n",
              "<p>456 rows × 4 columns</p>\n",
              "</div>\n",
              "      <button class=\"colab-df-convert\" onclick=\"convertToInteractive('df-85fa49bd-9db4-4459-8fe1-f591cad80206')\"\n",
              "              title=\"Convert this dataframe to an interactive table.\"\n",
              "              style=\"display:none;\">\n",
              "        \n",
              "  <svg xmlns=\"http://www.w3.org/2000/svg\" height=\"24px\"viewBox=\"0 0 24 24\"\n",
              "       width=\"24px\">\n",
              "    <path d=\"M0 0h24v24H0V0z\" fill=\"none\"/>\n",
              "    <path d=\"M18.56 5.44l.94 2.06.94-2.06 2.06-.94-2.06-.94-.94-2.06-.94 2.06-2.06.94zm-11 1L8.5 8.5l.94-2.06 2.06-.94-2.06-.94L8.5 2.5l-.94 2.06-2.06.94zm10 10l.94 2.06.94-2.06 2.06-.94-2.06-.94-.94-2.06-.94 2.06-2.06.94z\"/><path d=\"M17.41 7.96l-1.37-1.37c-.4-.4-.92-.59-1.43-.59-.52 0-1.04.2-1.43.59L10.3 9.45l-7.72 7.72c-.78.78-.78 2.05 0 2.83L4 21.41c.39.39.9.59 1.41.59.51 0 1.02-.2 1.41-.59l7.78-7.78 2.81-2.81c.8-.78.8-2.07 0-2.86zM5.41 20L4 18.59l7.72-7.72 1.47 1.35L5.41 20z\"/>\n",
              "  </svg>\n",
              "      </button>\n",
              "      \n",
              "  <style>\n",
              "    .colab-df-container {\n",
              "      display:flex;\n",
              "      flex-wrap:wrap;\n",
              "      gap: 12px;\n",
              "    }\n",
              "\n",
              "    .colab-df-convert {\n",
              "      background-color: #E8F0FE;\n",
              "      border: none;\n",
              "      border-radius: 50%;\n",
              "      cursor: pointer;\n",
              "      display: none;\n",
              "      fill: #1967D2;\n",
              "      height: 32px;\n",
              "      padding: 0 0 0 0;\n",
              "      width: 32px;\n",
              "    }\n",
              "\n",
              "    .colab-df-convert:hover {\n",
              "      background-color: #E2EBFA;\n",
              "      box-shadow: 0px 1px 2px rgba(60, 64, 67, 0.3), 0px 1px 3px 1px rgba(60, 64, 67, 0.15);\n",
              "      fill: #174EA6;\n",
              "    }\n",
              "\n",
              "    [theme=dark] .colab-df-convert {\n",
              "      background-color: #3B4455;\n",
              "      fill: #D2E3FC;\n",
              "    }\n",
              "\n",
              "    [theme=dark] .colab-df-convert:hover {\n",
              "      background-color: #434B5C;\n",
              "      box-shadow: 0px 1px 3px 1px rgba(0, 0, 0, 0.15);\n",
              "      filter: drop-shadow(0px 1px 2px rgba(0, 0, 0, 0.3));\n",
              "      fill: #FFFFFF;\n",
              "    }\n",
              "  </style>\n",
              "\n",
              "      <script>\n",
              "        const buttonEl =\n",
              "          document.querySelector('#df-85fa49bd-9db4-4459-8fe1-f591cad80206 button.colab-df-convert');\n",
              "        buttonEl.style.display =\n",
              "          google.colab.kernel.accessAllowed ? 'block' : 'none';\n",
              "\n",
              "        async function convertToInteractive(key) {\n",
              "          const element = document.querySelector('#df-85fa49bd-9db4-4459-8fe1-f591cad80206');\n",
              "          const dataTable =\n",
              "            await google.colab.kernel.invokeFunction('convertToInteractive',\n",
              "                                                     [key], {});\n",
              "          if (!dataTable) return;\n",
              "\n",
              "          const docLinkHtml = 'Like what you see? Visit the ' +\n",
              "            '<a target=\"_blank\" href=https://colab.research.google.com/notebooks/data_table.ipynb>data table notebook</a>'\n",
              "            + ' to learn more about interactive tables.';\n",
              "          element.innerHTML = '';\n",
              "          dataTable['output_type'] = 'display_data';\n",
              "          await google.colab.output.renderOutput(dataTable, element);\n",
              "          const docLink = document.createElement('div');\n",
              "          docLink.innerHTML = docLinkHtml;\n",
              "          element.appendChild(docLink);\n",
              "        }\n",
              "      </script>\n",
              "    </div>\n",
              "  </div>\n",
              "  "
            ]
          },
          "metadata": {},
          "execution_count": 6
        }
      ],
      "metadata": {
        "colab": {
          "base_uri": "https://localhost:8080/",
          "height": 423
        },
        "id": "MAvzs5Ac6LSJ",
        "outputId": "bba1df95-a21d-48b3-b6fe-98f291ac4a1d"
      }
    },
    {
      "cell_type": "code",
      "execution_count": null,
      "source": [
        "#input_df = df[['RAINFALL_24_HRS', 'MAX_TEMP', 'MIN_TEMP']]\n",
        "input_df = df[['MAX_TEMP', 'MIN_TEMP', 'RAINFALL_24_HRS']]\n",
        "input_df.head()"
      ],
      "outputs": [
        {
          "output_type": "execute_result",
          "data": {
            "text/plain": [
              "   MAX_TEMP  MIN_TEMP  RAINFALL_24_HRS\n",
              "0      18.5       9.7              0.0\n",
              "1      20.3      12.0              0.0\n",
              "2      20.7      14.0              0.0\n",
              "3      20.5      11.0              0.0\n",
              "4      17.0       7.2              0.0"
            ],
            "text/html": [
              "\n",
              "  <div id=\"df-57a93e12-7fe9-4878-b3c3-eec17edbc7f5\">\n",
              "    <div class=\"colab-df-container\">\n",
              "      <div>\n",
              "<style scoped>\n",
              "    .dataframe tbody tr th:only-of-type {\n",
              "        vertical-align: middle;\n",
              "    }\n",
              "\n",
              "    .dataframe tbody tr th {\n",
              "        vertical-align: top;\n",
              "    }\n",
              "\n",
              "    .dataframe thead th {\n",
              "        text-align: right;\n",
              "    }\n",
              "</style>\n",
              "<table border=\"1\" class=\"dataframe\">\n",
              "  <thead>\n",
              "    <tr style=\"text-align: right;\">\n",
              "      <th></th>\n",
              "      <th>MAX_TEMP</th>\n",
              "      <th>MIN_TEMP</th>\n",
              "      <th>RAINFALL_24_HRS</th>\n",
              "    </tr>\n",
              "  </thead>\n",
              "  <tbody>\n",
              "    <tr>\n",
              "      <th>0</th>\n",
              "      <td>18.5</td>\n",
              "      <td>9.7</td>\n",
              "      <td>0.0</td>\n",
              "    </tr>\n",
              "    <tr>\n",
              "      <th>1</th>\n",
              "      <td>20.3</td>\n",
              "      <td>12.0</td>\n",
              "      <td>0.0</td>\n",
              "    </tr>\n",
              "    <tr>\n",
              "      <th>2</th>\n",
              "      <td>20.7</td>\n",
              "      <td>14.0</td>\n",
              "      <td>0.0</td>\n",
              "    </tr>\n",
              "    <tr>\n",
              "      <th>3</th>\n",
              "      <td>20.5</td>\n",
              "      <td>11.0</td>\n",
              "      <td>0.0</td>\n",
              "    </tr>\n",
              "    <tr>\n",
              "      <th>4</th>\n",
              "      <td>17.0</td>\n",
              "      <td>7.2</td>\n",
              "      <td>0.0</td>\n",
              "    </tr>\n",
              "  </tbody>\n",
              "</table>\n",
              "</div>\n",
              "      <button class=\"colab-df-convert\" onclick=\"convertToInteractive('df-57a93e12-7fe9-4878-b3c3-eec17edbc7f5')\"\n",
              "              title=\"Convert this dataframe to an interactive table.\"\n",
              "              style=\"display:none;\">\n",
              "        \n",
              "  <svg xmlns=\"http://www.w3.org/2000/svg\" height=\"24px\"viewBox=\"0 0 24 24\"\n",
              "       width=\"24px\">\n",
              "    <path d=\"M0 0h24v24H0V0z\" fill=\"none\"/>\n",
              "    <path d=\"M18.56 5.44l.94 2.06.94-2.06 2.06-.94-2.06-.94-.94-2.06-.94 2.06-2.06.94zm-11 1L8.5 8.5l.94-2.06 2.06-.94-2.06-.94L8.5 2.5l-.94 2.06-2.06.94zm10 10l.94 2.06.94-2.06 2.06-.94-2.06-.94-.94-2.06-.94 2.06-2.06.94z\"/><path d=\"M17.41 7.96l-1.37-1.37c-.4-.4-.92-.59-1.43-.59-.52 0-1.04.2-1.43.59L10.3 9.45l-7.72 7.72c-.78.78-.78 2.05 0 2.83L4 21.41c.39.39.9.59 1.41.59.51 0 1.02-.2 1.41-.59l7.78-7.78 2.81-2.81c.8-.78.8-2.07 0-2.86zM5.41 20L4 18.59l7.72-7.72 1.47 1.35L5.41 20z\"/>\n",
              "  </svg>\n",
              "      </button>\n",
              "      \n",
              "  <style>\n",
              "    .colab-df-container {\n",
              "      display:flex;\n",
              "      flex-wrap:wrap;\n",
              "      gap: 12px;\n",
              "    }\n",
              "\n",
              "    .colab-df-convert {\n",
              "      background-color: #E8F0FE;\n",
              "      border: none;\n",
              "      border-radius: 50%;\n",
              "      cursor: pointer;\n",
              "      display: none;\n",
              "      fill: #1967D2;\n",
              "      height: 32px;\n",
              "      padding: 0 0 0 0;\n",
              "      width: 32px;\n",
              "    }\n",
              "\n",
              "    .colab-df-convert:hover {\n",
              "      background-color: #E2EBFA;\n",
              "      box-shadow: 0px 1px 2px rgba(60, 64, 67, 0.3), 0px 1px 3px 1px rgba(60, 64, 67, 0.15);\n",
              "      fill: #174EA6;\n",
              "    }\n",
              "\n",
              "    [theme=dark] .colab-df-convert {\n",
              "      background-color: #3B4455;\n",
              "      fill: #D2E3FC;\n",
              "    }\n",
              "\n",
              "    [theme=dark] .colab-df-convert:hover {\n",
              "      background-color: #434B5C;\n",
              "      box-shadow: 0px 1px 3px 1px rgba(0, 0, 0, 0.15);\n",
              "      filter: drop-shadow(0px 1px 2px rgba(0, 0, 0, 0.3));\n",
              "      fill: #FFFFFF;\n",
              "    }\n",
              "  </style>\n",
              "\n",
              "      <script>\n",
              "        const buttonEl =\n",
              "          document.querySelector('#df-57a93e12-7fe9-4878-b3c3-eec17edbc7f5 button.colab-df-convert');\n",
              "        buttonEl.style.display =\n",
              "          google.colab.kernel.accessAllowed ? 'block' : 'none';\n",
              "\n",
              "        async function convertToInteractive(key) {\n",
              "          const element = document.querySelector('#df-57a93e12-7fe9-4878-b3c3-eec17edbc7f5');\n",
              "          const dataTable =\n",
              "            await google.colab.kernel.invokeFunction('convertToInteractive',\n",
              "                                                     [key], {});\n",
              "          if (!dataTable) return;\n",
              "\n",
              "          const docLinkHtml = 'Like what you see? Visit the ' +\n",
              "            '<a target=\"_blank\" href=https://colab.research.google.com/notebooks/data_table.ipynb>data table notebook</a>'\n",
              "            + ' to learn more about interactive tables.';\n",
              "          element.innerHTML = '';\n",
              "          dataTable['output_type'] = 'display_data';\n",
              "          await google.colab.output.renderOutput(dataTable, element);\n",
              "          const docLink = document.createElement('div');\n",
              "          docLink.innerHTML = docLinkHtml;\n",
              "          element.appendChild(docLink);\n",
              "        }\n",
              "      </script>\n",
              "    </div>\n",
              "  </div>\n",
              "  "
            ]
          },
          "metadata": {},
          "execution_count": 7
        }
      ],
      "metadata": {
        "colab": {
          "base_uri": "https://localhost:8080/",
          "height": 206
        },
        "id": "QEbIgAtD6uN2",
        "outputId": "c7f982b2-c08c-4c66-9982-6fa2e419bfe3"
      }
    },
    {
      "cell_type": "code",
      "execution_count": null,
      "source": [
        "sca=MinMaxScaler()\n",
        "data_sca = sca.fit_transform(input_df)"
      ],
      "outputs": [],
      "metadata": {
        "id": "Fa7EY4gM6Tls"
      }
    },
    {
      "cell_type": "code",
      "execution_count": null,
      "source": [
        "x = data_sca\n",
        "y = data_sca[:,-1]"
      ],
      "outputs": [],
      "metadata": {
        "id": "fmMgzGcT6oXH"
      }
    },
    {
      "cell_type": "code",
      "execution_count": null,
      "source": [
        "xtrain,xtest,ytrain,ytest = train_test_split(x,y,shuffle=False)"
      ],
      "outputs": [],
      "metadata": {
        "id": "OipK95CS7ZyM"
      }
    },
    {
      "cell_type": "code",
      "execution_count": null,
      "source": [
        "print(xtrain.shape)\n",
        "print(ytrain.shape)"
      ],
      "outputs": [
        {
          "output_type": "stream",
          "name": "stdout",
          "text": [
            "(342, 3)\n",
            "(342,)\n"
          ]
        }
      ],
      "metadata": {
        "colab": {
          "base_uri": "https://localhost:8080/"
        },
        "id": "BwpRcs1u7gWK",
        "outputId": "331a02af-d755-477b-f205-077d106a2c20"
      }
    },
    {
      "cell_type": "code",
      "execution_count": null,
      "source": [
        "TimeseriesGenerator(xtrain,ytrain,length=2, sampling_rate=1, batch_size=1)[0]"
      ],
      "outputs": [
        {
          "output_type": "execute_result",
          "data": {
            "text/plain": [
              "(array([[[0.05454545, 0.20158103, 0.        ],\n",
              "         [0.12      , 0.29249012, 0.        ]]]),\n",
              " array([0.]))"
            ]
          },
          "metadata": {},
          "execution_count": 12
        }
      ],
      "metadata": {
        "colab": {
          "base_uri": "https://localhost:8080/"
        },
        "id": "xCDVnNkn7iub",
        "outputId": "3f3af9ef-de69-42cf-d581-2e2b048285fe"
      }
    },
    {
      "cell_type": "code",
      "execution_count": null,
      "source": [
        "xtrain"
      ],
      "outputs": [
        {
          "output_type": "execute_result",
          "data": {
            "text/plain": [
              "array([[0.05454545, 0.20158103, 0.        ],\n",
              "       [0.12      , 0.29249012, 0.        ],\n",
              "       [0.13454545, 0.3715415 , 0.        ],\n",
              "       ...,\n",
              "       [0.52727273, 0.3083004 , 0.        ],\n",
              "       [0.56      , 0.32411067, 0.        ],\n",
              "       [0.56727273, 0.3715415 , 0.        ]])"
            ]
          },
          "metadata": {},
          "execution_count": 13
        }
      ],
      "metadata": {
        "colab": {
          "base_uri": "https://localhost:8080/"
        },
        "id": "SaeVzZAJ7nRk",
        "outputId": "f757de5d-7526-43cb-c275-d226b12912fc"
      }
    },
    {
      "cell_type": "code",
      "execution_count": null,
      "source": [
        "win_len=50 \n",
        "num_feature = 3\n",
        "train_generator = TimeseriesGenerator(xtrain, ytrain, length=win_len, sampling_rate=1, batch_size=32)\n",
        "test_generator = TimeseriesGenerator(xtest, ytest, length=win_len, sampling_rate=1, batch_size=32)"
      ],
      "outputs": [],
      "metadata": {
        "id": "P_bJrSct7vdn"
      }
    },
    {
      "cell_type": "code",
      "execution_count": null,
      "source": [
        "from keras.models import Sequential\n",
        "from keras.layers import LSTM, Dense, Dropout\n",
        "import tensorflow as tf"
      ],
      "outputs": [],
      "metadata": {
        "id": "C56Br0MF7_eM"
      }
    },
    {
      "cell_type": "code",
      "execution_count": null,
      "source": [
        "model = Sequential()\n",
        "model.add(LSTM(32, input_shape=(win_len, num_feature),activation='tanh', return_sequences=True)) # return sequence by default false, intermediate values should be stored or not, here we will keep it as true\n",
        "model.add(LSTM(32,activation='tanh', return_sequences=True))\n",
        "model.add(Dropout(0.2))\n",
        "# dropout is used to minimise overfitting, select 20 neurons which are not contributing, so goal is to give equal oppurtunity to all neurons\n",
        "model.add(LSTM(32,activation='tanh', return_sequences=True)) \n",
        "model.add(Dropout(0.2))\n",
        "model.add(LSTM(32,activation='tanh', return_sequences=False)) # last layer, keep return_sequences=False because we only want output\n",
        "model.add(Dense(1))"
      ],
      "outputs": [],
      "metadata": {
        "id": "mGaZXNG199zV"
      }
    },
    {
      "cell_type": "code",
      "execution_count": null,
      "source": [
        "model.summary()"
      ],
      "outputs": [
        {
          "output_type": "stream",
          "name": "stdout",
          "text": [
            "Model: \"sequential\"\n",
            "_________________________________________________________________\n",
            " Layer (type)                Output Shape              Param #   \n",
            "=================================================================\n",
            " lstm (LSTM)                 (None, 50, 32)            4608      \n",
            "                                                                 \n",
            " lstm_1 (LSTM)               (None, 50, 32)            8320      \n",
            "                                                                 \n",
            " dropout (Dropout)           (None, 50, 32)            0         \n",
            "                                                                 \n",
            " lstm_2 (LSTM)               (None, 50, 32)            8320      \n",
            "                                                                 \n",
            " dropout_1 (Dropout)         (None, 50, 32)            0         \n",
            "                                                                 \n",
            " lstm_3 (LSTM)               (None, 32)                8320      \n",
            "                                                                 \n",
            " dense (Dense)               (None, 1)                 33        \n",
            "                                                                 \n",
            "=================================================================\n",
            "Total params: 29,601\n",
            "Trainable params: 29,601\n",
            "Non-trainable params: 0\n",
            "_________________________________________________________________\n"
          ]
        }
      ],
      "metadata": {
        "colab": {
          "base_uri": "https://localhost:8080/"
        },
        "id": "XvXyTOA8-KGG",
        "outputId": "4ee6a42d-b631-49a3-ca05-6d0a3bc4e657"
      }
    },
    {
      "cell_type": "code",
      "execution_count": null,
      "source": [
        "from keras.callbacks import EarlyStopping"
      ],
      "outputs": [],
      "metadata": {
        "id": "5i0brp6K-tHy"
      }
    },
    {
      "cell_type": "code",
      "execution_count": null,
      "source": [
        "early_stopping = EarlyStopping(monitor='val_loss', mode='min', patience=3) "
      ],
      "outputs": [],
      "metadata": {
        "id": "wxDb3eeN-xQg"
      }
    },
    {
      "cell_type": "code",
      "execution_count": null,
      "source": [
        "model.compile(loss=tf.keras.losses.MeanSquaredError(), optimizer='adam', metrics=[tf.keras.metrics.MeanAbsoluteError()])"
      ],
      "outputs": [],
      "metadata": {
        "id": "g8n0aPxl-0WG"
      }
    },
    {
      "cell_type": "code",
      "execution_count": null,
      "source": [
        "from keras import callbacks\n",
        "hist = model.fit_generator(train_generator, epochs=5, validation_data=test_generator, callbacks=[early_stopping], shuffle=False)"
      ],
      "outputs": [
        {
          "output_type": "stream",
          "name": "stdout",
          "text": [
            "Epoch 1/5\n"
          ]
        },
        {
          "output_type": "stream",
          "name": "stderr",
          "text": [
            "<ipython-input-21-1423d245b9bd>:2: UserWarning: `Model.fit_generator` is deprecated and will be removed in a future version. Please use `Model.fit`, which supports generators.\n",
            "  hist = model.fit_generator(train_generator, epochs=5, validation_data=test_generator, callbacks=[early_stopping], shuffle=False)\n"
          ]
        },
        {
          "output_type": "stream",
          "name": "stdout",
          "text": [
            "10/10 [==============================] - 9s 228ms/step - loss: 0.0086 - mean_absolute_error: 0.0506 - val_loss: 5.9012e-04 - val_mean_absolute_error: 0.0110\n",
            "Epoch 2/5\n",
            "10/10 [==============================] - 1s 66ms/step - loss: 0.0097 - mean_absolute_error: 0.0456 - val_loss: 0.0020 - val_mean_absolute_error: 0.0441\n",
            "Epoch 3/5\n",
            "10/10 [==============================] - 1s 70ms/step - loss: 0.0086 - mean_absolute_error: 0.0478 - val_loss: 4.0892e-04 - val_mean_absolute_error: 0.0130\n",
            "Epoch 4/5\n",
            "10/10 [==============================] - 1s 64ms/step - loss: 0.0086 - mean_absolute_error: 0.0327 - val_loss: 5.9402e-04 - val_mean_absolute_error: 0.0214\n",
            "Epoch 5/5\n",
            "10/10 [==============================] - 1s 68ms/step - loss: 0.0082 - mean_absolute_error: 0.0427 - val_loss: 4.9172e-04 - val_mean_absolute_error: 0.0177\n"
          ]
        }
      ],
      "metadata": {
        "colab": {
          "base_uri": "https://localhost:8080/"
        },
        "id": "2j4knMEi-3vx",
        "outputId": "480e0652-16c6-4896-cd99-c3e08e444d97"
      }
    },
    {
      "cell_type": "code",
      "execution_count": null,
      "source": [
        "import matplotlib.pyplot as plt\n",
        "\n",
        "plt.plot(hist.history['loss'], label='Training Loss')\n",
        "plt.plot(hist.history['val_loss'], label='validation Loss')\n",
        "plt.xlabel('Epoches')\n",
        "plt.ylabel('Loss')\n",
        "plt.title(\"Training V/S Validation loss\")\n",
        "plt.legend()"
      ],
      "outputs": [
        {
          "output_type": "execute_result",
          "data": {
            "text/plain": [
              "<matplotlib.legend.Legend at 0x7f64066de580>"
            ]
          },
          "metadata": {},
          "execution_count": 22
        },
        {
          "output_type": "display_data",
          "data": {
            "text/plain": [
              "<Figure size 640x480 with 1 Axes>"
            ],
            "image/png": "[encoded data removed]"
          },
          "metadata": {}
        }
      ],
      "metadata": {
        "colab": {
          "base_uri": "https://localhost:8080/",
          "height": 489
        },
        "id": "YpHyE0sQwXfj",
        "outputId": "83a4b7dc-5743-4945-d22c-b1fb4637f7de"
      }
    },
    {
      "cell_type": "code",
      "execution_count": null,
      "source": [
        "plt.plot(hist.history['mean_absolute_error'], label='Training MAE')\n",
        "plt.plot(hist.history['val_mean_absolute_error'], label='validation MAE')\n",
        "plt.xlabel('Epoches')\n",
        "plt.ylabel('MAE')\n",
        "plt.title(\"Training V/S Validation MAE\")\n",
        "plt.legend()"
      ],
      "outputs": [
        {
          "output_type": "execute_result",
          "data": {
            "text/plain": [
              "<matplotlib.legend.Legend at 0x7f63fcecdac0>"
            ]
          },
          "metadata": {},
          "execution_count": 23
        },
        {
          "output_type": "display_data",
          "data": {
            "text/plain": [
              "<Figure size 640x480 with 1 Axes>"
            ],
            "image/png": "[encoded data removed]"
          },
          "metadata": {}
        }
      ],
      "metadata": {
        "colab": {
          "base_uri": "https://localhost:8080/",
          "height": 489
        },
        "id": "gatdUUxZwcMP",
        "outputId": "a8e4f977-b200-4f11-c838-bcc7a7911b20"
      }
    },
    {
      "cell_type": "code",
      "execution_count": null,
      "source": [
        "ypred = model.predict(test_generator)"
      ],
      "outputs": [
        {
          "output_type": "stream",
          "name": "stdout",
          "text": [
            "2/2 [==============================] - 2s 23ms/step\n"
          ]
        }
      ],
      "metadata": {
        "colab": {
          "base_uri": "https://localhost:8080/"
        },
        "id": "gzF8-auG-6gb",
        "outputId": "8129722b-cfc8-40f8-fe30-7f1efd0a69b1"
      }
    },
    {
      "cell_type": "code",
      "execution_count": null,
      "source": [
        "ypred.shape"
      ],
      "outputs": [
        {
          "output_type": "execute_result",
          "data": {
            "text/plain": [
              "(64, 1)"
            ]
          },
          "metadata": {},
          "execution_count": 25
        }
      ],
      "metadata": {
        "colab": {
          "base_uri": "https://localhost:8080/"
        },
        "id": "yah-V0yj_9mS",
        "outputId": "e98254c0-d2aa-4f80-96f2-4797fe971ac7"
      }
    },
    {
      "cell_type": "code",
      "execution_count": null,
      "source": [
        "xtest.shape"
      ],
      "outputs": [
        {
          "output_type": "execute_result",
          "data": {
            "text/plain": [
              "(114, 3)"
            ]
          },
          "metadata": {},
          "execution_count": 26
        }
      ],
      "metadata": {
        "colab": {
          "base_uri": "https://localhost:8080/"
        },
        "id": "1rN5OA1KAAyr",
        "outputId": "8ed0cd6c-429c-45b0-e627-71a7060675be"
      }
    },
    {
      "cell_type": "code",
      "execution_count": null,
      "source": [
        "df_pred = pd.concat([pd.DataFrame(ypred), pd.DataFrame(xtest[2:,1:][win_len:])], axis=1)"
      ],
      "outputs": [],
      "metadata": {
        "id": "dMUEYZ9EAOfL"
      }
    },
    {
      "cell_type": "code",
      "execution_count": null,
      "source": [
        "df_pred"
      ],
      "outputs": [
        {
          "output_type": "execute_result",
          "data": {
            "text/plain": [
              "           0         0    1\n",
              "0   0.015191  0.106719  0.0\n",
              "1   0.014874  0.023715  0.0\n",
              "2   0.014541  0.071146  0.0\n",
              "3   0.014198  0.110672  0.0\n",
              "4   0.013839  0.189723  0.0\n",
              "..       ...       ...  ...\n",
              "59  0.020925  0.577075  0.0\n",
              "60  0.021175  0.608696  0.0\n",
              "61  0.021379  0.648221  0.0\n",
              "62  0.021537       NaN  NaN\n",
              "63  0.021653       NaN  NaN\n",
              "\n",
              "[64 rows x 3 columns]"
            ],
            "text/html": [
              "\n",
              "  <div id=\"df-4722cb69-26a2-4c41-b2c8-b9e5d6b59246\">\n",
              "    <div class=\"colab-df-container\">\n",
              "      <div>\n",
              "<style scoped>\n",
              "    .dataframe tbody tr th:only-of-type {\n",
              "        vertical-align: middle;\n",
              "    }\n",
              "\n",
              "    .dataframe tbody tr th {\n",
              "        vertical-align: top;\n",
              "    }\n",
              "\n",
              "    .dataframe thead th {\n",
              "        text-align: right;\n",
              "    }\n",
              "</style>\n",
              "<table border=\"1\" class=\"dataframe\">\n",
              "  <thead>\n",
              "    <tr style=\"text-align: right;\">\n",
              "      <th></th>\n",
              "      <th>0</th>\n",
              "      <th>0</th>\n",
              "      <th>1</th>\n",
              "    </tr>\n",
              "  </thead>\n",
              "  <tbody>\n",
              "    <tr>\n",
              "      <th>0</th>\n",
              "      <td>0.015191</td>\n",
              "      <td>0.106719</td>\n",
              "      <td>0.0</td>\n",
              "    </tr>\n",
              "    <tr>\n",
              "      <th>1</th>\n",
              "      <td>0.014874</td>\n",
              "      <td>0.023715</td>\n",
              "      <td>0.0</td>\n",
              "    </tr>\n",
              "    <tr>\n",
              "      <th>2</th>\n",
              "      <td>0.014541</td>\n",
              "      <td>0.071146</td>\n",
              "      <td>0.0</td>\n",
              "    </tr>\n",
              "    <tr>\n",
              "      <th>3</th>\n",
              "      <td>0.014198</td>\n",
              "      <td>0.110672</td>\n",
              "      <td>0.0</td>\n",
              "    </tr>\n",
              "    <tr>\n",
              "      <th>4</th>\n",
              "      <td>0.013839</td>\n",
              "      <td>0.189723</td>\n",
              "      <td>0.0</td>\n",
              "    </tr>\n",
              "    <tr>\n",
              "      <th>...</th>\n",
              "      <td>...</td>\n",
              "      <td>...</td>\n",
              "      <td>...</td>\n",
              "    </tr>\n",
              "    <tr>\n",
              "      <th>59</th>\n",
              "      <td>0.020925</td>\n",
              "      <td>0.577075</td>\n",
              "      <td>0.0</td>\n",
              "    </tr>\n",
              "    <tr>\n",
              "      <th>60</th>\n",
              "      <td>0.021175</td>\n",
              "      <td>0.608696</td>\n",
              "      <td>0.0</td>\n",
              "    </tr>\n",
              "    <tr>\n",
              "      <th>61</th>\n",
              "      <td>0.021379</td>\n",
              "      <td>0.648221</td>\n",
              "      <td>0.0</td>\n",
              "    </tr>\n",
              "    <tr>\n",
              "      <th>62</th>\n",
              "      <td>0.021537</td>\n",
              "      <td>NaN</td>\n",
              "      <td>NaN</td>\n",
              "    </tr>\n",
              "    <tr>\n",
              "      <th>63</th>\n",
              "      <td>0.021653</td>\n",
              "      <td>NaN</td>\n",
              "      <td>NaN</td>\n",
              "    </tr>\n",
              "  </tbody>\n",
              "</table>\n",
              "<p>64 rows × 3 columns</p>\n",
              "</div>\n",
              "      <button class=\"colab-df-convert\" onclick=\"convertToInteractive('df-4722cb69-26a2-4c41-b2c8-b9e5d6b59246')\"\n",
              "              title=\"Convert this dataframe to an interactive table.\"\n",
              "              style=\"display:none;\">\n",
              "        \n",
              "  <svg xmlns=\"http://www.w3.org/2000/svg\" height=\"24px\"viewBox=\"0 0 24 24\"\n",
              "       width=\"24px\">\n",
              "    <path d=\"M0 0h24v24H0V0z\" fill=\"none\"/>\n",
              "    <path d=\"M18.56 5.44l.94 2.06.94-2.06 2.06-.94-2.06-.94-.94-2.06-.94 2.06-2.06.94zm-11 1L8.5 8.5l.94-2.06 2.06-.94-2.06-.94L8.5 2.5l-.94 2.06-2.06.94zm10 10l.94 2.06.94-2.06 2.06-.94-2.06-.94-.94-2.06-.94 2.06-2.06.94z\"/><path d=\"M17.41 7.96l-1.37-1.37c-.4-.4-.92-.59-1.43-.59-.52 0-1.04.2-1.43.59L10.3 9.45l-7.72 7.72c-.78.78-.78 2.05 0 2.83L4 21.41c.39.39.9.59 1.41.59.51 0 1.02-.2 1.41-.59l7.78-7.78 2.81-2.81c.8-.78.8-2.07 0-2.86zM5.41 20L4 18.59l7.72-7.72 1.47 1.35L5.41 20z\"/>\n",
              "  </svg>\n",
              "      </button>\n",
              "      \n",
              "  <style>\n",
              "    .colab-df-container {\n",
              "      display:flex;\n",
              "      flex-wrap:wrap;\n",
              "      gap: 12px;\n",
              "    }\n",
              "\n",
              "    .colab-df-convert {\n",
              "      background-color: #E8F0FE;\n",
              "      border: none;\n",
              "      border-radius: 50%;\n",
              "      cursor: pointer;\n",
              "      display: none;\n",
              "      fill: #1967D2;\n",
              "      height: 32px;\n",
              "      padding: 0 0 0 0;\n",
              "      width: 32px;\n",
              "    }\n",
              "\n",
              "    .colab-df-convert:hover {\n",
              "      background-color: #E2EBFA;\n",
              "      box-shadow: 0px 1px 2px rgba(60, 64, 67, 0.3), 0px 1px 3px 1px rgba(60, 64, 67, 0.15);\n",
              "      fill: #174EA6;\n",
              "    }\n",
              "\n",
              "    [theme=dark] .colab-df-convert {\n",
              "      background-color: #3B4455;\n",
              "      fill: #D2E3FC;\n",
              "    }\n",
              "\n",
              "    [theme=dark] .colab-df-convert:hover {\n",
              "      background-color: #434B5C;\n",
              "      box-shadow: 0px 1px 3px 1px rgba(0, 0, 0, 0.15);\n",
              "      filter: drop-shadow(0px 1px 2px rgba(0, 0, 0, 0.3));\n",
              "      fill: #FFFFFF;\n",
              "    }\n",
              "  </style>\n",
              "\n",
              "      <script>\n",
              "        const buttonEl =\n",
              "          document.querySelector('#df-4722cb69-26a2-4c41-b2c8-b9e5d6b59246 button.colab-df-convert');\n",
              "        buttonEl.style.display =\n",
              "          google.colab.kernel.accessAllowed ? 'block' : 'none';\n",
              "\n",
              "        async function convertToInteractive(key) {\n",
              "          const element = document.querySelector('#df-4722cb69-26a2-4c41-b2c8-b9e5d6b59246');\n",
              "          const dataTable =\n",
              "            await google.colab.kernel.invokeFunction('convertToInteractive',\n",
              "                                                     [key], {});\n",
              "          if (!dataTable) return;\n",
              "\n",
              "          const docLinkHtml = 'Like what you see? Visit the ' +\n",
              "            '<a target=\"_blank\" href=https://colab.research.google.com/notebooks/data_table.ipynb>data table notebook</a>'\n",
              "            + ' to learn more about interactive tables.';\n",
              "          element.innerHTML = '';\n",
              "          dataTable['output_type'] = 'display_data';\n",
              "          await google.colab.output.renderOutput(dataTable, element);\n",
              "          const docLink = document.createElement('div');\n",
              "          docLink.innerHTML = docLinkHtml;\n",
              "          element.appendChild(docLink);\n",
              "        }\n",
              "      </script>\n",
              "    </div>\n",
              "  </div>\n",
              "  "
            ]
          },
          "metadata": {},
          "execution_count": 28
        }
      ],
      "metadata": {
        "colab": {
          "base_uri": "https://localhost:8080/",
          "height": 423
        },
        "id": "WIGaiT1dCCsK",
        "outputId": "6ad9ec09-1716-4aee-e530-d00dfcc62f37"
      }
    },
    {
      "cell_type": "code",
      "execution_count": null,
      "source": [
        "df_final = sca.inverse_transform(df_pred) # inverse of normalisation function\n",
        "df_final"
      ],
      "outputs": [
        {
          "output_type": "execute_result",
          "data": {
            "text/plain": [
              "array([[1.74177445e+01, 7.30000000e+00, 0.00000000e+00],\n",
              "       [1.74090298e+01, 5.20000000e+00, 0.00000000e+00],\n",
              "       [1.73998716e+01, 6.40000000e+00, 0.00000000e+00],\n",
              "       [1.73904450e+01, 7.40000000e+00, 0.00000000e+00],\n",
              "       [1.73805861e+01, 9.40000000e+00, 0.00000000e+00],\n",
              "       [1.73704560e+01, 1.12000000e+01, 0.00000000e+00],\n",
              "       [1.73600110e+01, 1.42000000e+01, 0.00000000e+00],\n",
              "       [1.73496220e+01, 1.36000000e+01, 0.00000000e+00],\n",
              "       [1.73397319e+01, 1.11000000e+01, 0.00000000e+00],\n",
              "       [1.73309757e+01, 8.20000000e+00, 0.00000000e+00],\n",
              "       [1.73240261e+01, 7.90000000e+00, 0.00000000e+00],\n",
              "       [1.73190022e+01, 9.80000000e+00, 0.00000000e+00],\n",
              "       [1.73155497e+01, 1.14000000e+01, 0.00000000e+00],\n",
              "       [1.73130622e+01, 1.28000000e+01, 0.00000000e+00],\n",
              "       [1.73112595e+01, 1.26000000e+01, 0.00000000e+00],\n",
              "       [1.73100656e+01, 1.34000000e+01, 0.00000000e+00],\n",
              "       [1.73095685e+01, 1.60000000e+01, 0.00000000e+00],\n",
              "       [1.73099199e+01, 1.44000000e+01, 0.00000000e+00],\n",
              "       [1.73113408e+01, 1.54000000e+01, 1.00000000e-02],\n",
              "       [1.73142468e+01, 1.58000000e+01, 1.00000000e-02],\n",
              "       [1.73185214e+01, 1.40000000e+01, 0.00000000e+00],\n",
              "       [1.73241164e+01, 1.50000000e+01, 0.00000000e+00],\n",
              "       [1.73312704e+01, 1.22000000e+01, 0.00000000e+00],\n",
              "       [1.73395613e+01, 1.25000000e+01, 0.00000000e+00],\n",
              "       [1.73487445e+01, 1.21000000e+01, 0.00000000e+00],\n",
              "       [1.73580371e+01, 1.34000000e+01, 0.00000000e+00],\n",
              "       [1.73669780e+01, 1.40000000e+01, 0.00000000e+00],\n",
              "       [1.73750984e+01, 1.55000000e+01, 0.00000000e+00],\n",
              "       [1.73822394e+01, 1.42000000e+01, 0.00000000e+00],\n",
              "       [1.73885459e+01, 1.54000000e+01, 0.00000000e+00],\n",
              "       [1.73939604e+01, 1.82000000e+01, 0.00000000e+00],\n",
              "       [1.73985209e+01, 1.62000000e+01, 0.00000000e+00],\n",
              "       [1.74024631e+01, 1.70000000e+01, 0.00000000e+00],\n",
              "       [1.74063612e+01, 1.38000000e+01, 0.00000000e+00],\n",
              "       [1.74106470e+01, 1.47000000e+01, 0.00000000e+00],\n",
              "       [1.74153542e+01, 1.74000000e+01, 0.00000000e+00],\n",
              "       [1.74202623e+01, 1.46000000e+01, 0.00000000e+00],\n",
              "       [1.74251486e+01, 1.64000000e+01, 0.00000000e+00],\n",
              "       [1.74300024e+01, 1.69000000e+01, 0.00000000e+00],\n",
              "       [1.74345840e+01, 1.62000000e+01, 0.00000000e+00],\n",
              "       [1.74389369e+01, 1.66000000e+01, 0.00000000e+00],\n",
              "       [1.74431802e+01, 1.84000000e+01, 0.00000000e+00],\n",
              "       [1.74472273e+01, 1.96000000e+01, 0.00000000e+00],\n",
              "       [1.74510768e+01, 1.56000000e+01, 1.46000000e+01],\n",
              "       [1.74551857e+01, 1.67000000e+01, 0.00000000e+00],\n",
              "       [1.74600342e+01, 1.72000000e+01, 0.00000000e+00],\n",
              "       [1.74652350e+01, 2.05000000e+01, 0.00000000e+00],\n",
              "       [1.74707977e+01, 2.06000000e+01, 0.00000000e+00],\n",
              "       [1.74767733e+01, 1.92000000e+01, 4.00000000e-01],\n",
              "       [1.74837017e+01, 1.86000000e+01, 1.00000000e+01],\n",
              "       [1.74920151e+01, 1.58000000e+01, 1.00000000e+01],\n",
              "       [1.75014275e+01, 1.86000000e+01, 1.00000000e-02],\n",
              "       [1.75113319e+01, 2.02000000e+01, 0.00000000e+00],\n",
              "       [1.75209746e+01, 2.04000000e+01, 0.00000000e+00],\n",
              "       [1.75303395e+01, 1.82000000e+01, 6.00000000e-01],\n",
              "       [1.75396443e+01, 1.94000000e+01, 0.00000000e+00],\n",
              "       [1.75491212e+01, 1.72000000e+01, 0.00000000e+00],\n",
              "       [1.75584337e+01, 1.70000000e+01, 0.00000000e+00],\n",
              "       [1.75673646e+01, 1.84000000e+01, 0.00000000e+00],\n",
              "       [1.75754464e+01, 1.92000000e+01, 0.00000000e+00],\n",
              "       [1.75823153e+01, 2.00000000e+01, 0.00000000e+00],\n",
              "       [1.75879351e+01, 2.10000000e+01, 0.00000000e+00],\n",
              "       [1.75922691e+01,            nan,            nan],\n",
              "       [1.75954441e+01,            nan,            nan]])"
            ]
          },
          "metadata": {},
          "execution_count": 29
        }
      ],
      "metadata": {
        "colab": {
          "base_uri": "https://localhost:8080/"
        },
        "id": "g3ilkT1-AoHI",
        "outputId": "9db681e8-f739-42bd-d0a4-843e8c770af9"
      }
    },
    {
      "cell_type": "code",
      "execution_count": null,
      "source": [
        "df_main = input_df[ypred.shape[0]*-1:]\n",
        "df_main.count()"
      ],
      "outputs": [
        {
          "output_type": "execute_result",
          "data": {
            "text/plain": [
              "MAX_TEMP           64\n",
              "MIN_TEMP           64\n",
              "RAINFALL_24_HRS    64\n",
              "dtype: int64"
            ]
          },
          "metadata": {},
          "execution_count": 30
        }
      ],
      "metadata": {
        "colab": {
          "base_uri": "https://localhost:8080/"
        },
        "id": "JTj_JWdCBg0L",
        "outputId": "41fdd370-460c-4733-d8ea-20e41f1d951f"
      }
    },
    {
      "cell_type": "code",
      "execution_count": null,
      "source": [
        "df_main['Weather_Pred'] = df_final[:,-1]\n",
        "df_main"
      ],
      "outputs": [
        {
          "output_type": "stream",
          "name": "stderr",
          "text": [
            "<ipython-input-31-3e9813e1162d>:1: SettingWithCopyWarning: \n",
            "A value is trying to be set on a copy of a slice from a DataFrame.\n",
            "Try using .loc[row_indexer,col_indexer] = value instead\n",
            "\n",
            "See the caveats in the documentation: https://pandas.pydata.org/pandas-docs/stable/user_guide/indexing.html#returning-a-view-versus-a-copy\n",
            "  df_main['Weather_Pred'] = df_final[:,-1]\n"
          ]
        },
        {
          "output_type": "execute_result",
          "data": {
            "text/plain": [
              "     MAX_TEMP  MIN_TEMP  RAINFALL_24_HRS  Weather_Pred\n",
              "392      21.5       5.8              0.0           0.0\n",
              "393      21.9       8.2              0.0           0.0\n",
              "394      22.4       7.3              0.0           0.0\n",
              "395      21.7       5.2              0.0           0.0\n",
              "396      23.7       6.4              0.0           0.0\n",
              "..        ...       ...              ...           ...\n",
              "451      33.7      17.0              0.0           0.0\n",
              "452      36.8      18.4              0.0           0.0\n",
              "453      38.9      19.2              0.0           0.0\n",
              "454      41.0      20.0              0.0           NaN\n",
              "455      40.2      21.0              0.0           NaN\n",
              "\n",
              "[64 rows x 4 columns]"
            ],
            "text/html": [
              "\n",
              "  <div id=\"df-c88b884a-b79c-4466-9627-d50c414b145f\">\n",
              "    <div class=\"colab-df-container\">\n",
              "      <div>\n",
              "<style scoped>\n",
              "    .dataframe tbody tr th:only-of-type {\n",
              "        vertical-align: middle;\n",
              "    }\n",
              "\n",
              "    .dataframe tbody tr th {\n",
              "        vertical-align: top;\n",
              "    }\n",
              "\n",
              "    .dataframe thead th {\n",
              "        text-align: right;\n",
              "    }\n",
              "</style>\n",
              "<table border=\"1\" class=\"dataframe\">\n",
              "  <thead>\n",
              "    <tr style=\"text-align: right;\">\n",
              "      <th></th>\n",
              "      <th>MAX_TEMP</th>\n",
              "      <th>MIN_TEMP</th>\n",
              "      <th>RAINFALL_24_HRS</th>\n",
              "      <th>Weather_Pred</th>\n",
              "    </tr>\n",
              "  </thead>\n",
              "  <tbody>\n",
              "    <tr>\n",
              "      <th>392</th>\n",
              "      <td>21.5</td>\n",
              "      <td>5.8</td>\n",
              "      <td>0.0</td>\n",
              "      <td>0.0</td>\n",
              "    </tr>\n",
              "    <tr>\n",
              "      <th>393</th>\n",
              "      <td>21.9</td>\n",
              "      <td>8.2</td>\n",
              "      <td>0.0</td>\n",
              "      <td>0.0</td>\n",
              "    </tr>\n",
              "    <tr>\n",
              "      <th>394</th>\n",
              "      <td>22.4</td>\n",
              "      <td>7.3</td>\n",
              "      <td>0.0</td>\n",
              "      <td>0.0</td>\n",
              "    </tr>\n",
              "    <tr>\n",
              "      <th>395</th>\n",
              "      <td>21.7</td>\n",
              "      <td>5.2</td>\n",
              "      <td>0.0</td>\n",
              "      <td>0.0</td>\n",
              "    </tr>\n",
              "    <tr>\n",
              "      <th>396</th>\n",
              "      <td>23.7</td>\n",
              "      <td>6.4</td>\n",
              "      <td>0.0</td>\n",
              "      <td>0.0</td>\n",
              "    </tr>\n",
              "    <tr>\n",
              "      <th>...</th>\n",
              "      <td>...</td>\n",
              "      <td>...</td>\n",
              "      <td>...</td>\n",
              "      <td>...</td>\n",
              "    </tr>\n",
              "    <tr>\n",
              "      <th>451</th>\n",
              "      <td>33.7</td>\n",
              "      <td>17.0</td>\n",
              "      <td>0.0</td>\n",
              "      <td>0.0</td>\n",
              "    </tr>\n",
              "    <tr>\n",
              "      <th>452</th>\n",
              "      <td>36.8</td>\n",
              "      <td>18.4</td>\n",
              "      <td>0.0</td>\n",
              "      <td>0.0</td>\n",
              "    </tr>\n",
              "    <tr>\n",
              "      <th>453</th>\n",
              "      <td>38.9</td>\n",
              "      <td>19.2</td>\n",
              "      <td>0.0</td>\n",
              "      <td>0.0</td>\n",
              "    </tr>\n",
              "    <tr>\n",
              "      <th>454</th>\n",
              "      <td>41.0</td>\n",
              "      <td>20.0</td>\n",
              "      <td>0.0</td>\n",
              "      <td>NaN</td>\n",
              "    </tr>\n",
              "    <tr>\n",
              "      <th>455</th>\n",
              "      <td>40.2</td>\n",
              "      <td>21.0</td>\n",
              "      <td>0.0</td>\n",
              "      <td>NaN</td>\n",
              "    </tr>\n",
              "  </tbody>\n",
              "</table>\n",
              "<p>64 rows × 4 columns</p>\n",
              "</div>\n",
              "      <button class=\"colab-df-convert\" onclick=\"convertToInteractive('df-c88b884a-b79c-4466-9627-d50c414b145f')\"\n",
              "              title=\"Convert this dataframe to an interactive table.\"\n",
              "              style=\"display:none;\">\n",
              "        \n",
              "  <svg xmlns=\"http://www.w3.org/2000/svg\" height=\"24px\"viewBox=\"0 0 24 24\"\n",
              "       width=\"24px\">\n",
              "    <path d=\"M0 0h24v24H0V0z\" fill=\"none\"/>\n",
              "    <path d=\"M18.56 5.44l.94 2.06.94-2.06 2.06-.94-2.06-.94-.94-2.06-.94 2.06-2.06.94zm-11 1L8.5 8.5l.94-2.06 2.06-.94-2.06-.94L8.5 2.5l-.94 2.06-2.06.94zm10 10l.94 2.06.94-2.06 2.06-.94-2.06-.94-.94-2.06-.94 2.06-2.06.94z\"/><path d=\"M17.41 7.96l-1.37-1.37c-.4-.4-.92-.59-1.43-.59-.52 0-1.04.2-1.43.59L10.3 9.45l-7.72 7.72c-.78.78-.78 2.05 0 2.83L4 21.41c.39.39.9.59 1.41.59.51 0 1.02-.2 1.41-.59l7.78-7.78 2.81-2.81c.8-.78.8-2.07 0-2.86zM5.41 20L4 18.59l7.72-7.72 1.47 1.35L5.41 20z\"/>\n",
              "  </svg>\n",
              "      </button>\n",
              "      \n",
              "  <style>\n",
              "    .colab-df-container {\n",
              "      display:flex;\n",
              "      flex-wrap:wrap;\n",
              "      gap: 12px;\n",
              "    }\n",
              "\n",
              "    .colab-df-convert {\n",
              "      background-color: #E8F0FE;\n",
              "      border: none;\n",
              "      border-radius: 50%;\n",
              "      cursor: pointer;\n",
              "      display: none;\n",
              "      fill: #1967D2;\n",
              "      height: 32px;\n",
              "      padding: 0 0 0 0;\n",
              "      width: 32px;\n",
              "    }\n",
              "\n",
              "    .colab-df-convert:hover {\n",
              "      background-color: #E2EBFA;\n",
              "      box-shadow: 0px 1px 2px rgba(60, 64, 67, 0.3), 0px 1px 3px 1px rgba(60, 64, 67, 0.15);\n",
              "      fill: #174EA6;\n",
              "    }\n",
              "\n",
              "    [theme=dark] .colab-df-convert {\n",
              "      background-color: #3B4455;\n",
              "      fill: #D2E3FC;\n",
              "    }\n",
              "\n",
              "    [theme=dark] .colab-df-convert:hover {\n",
              "      background-color: #434B5C;\n",
              "      box-shadow: 0px 1px 3px 1px rgba(0, 0, 0, 0.15);\n",
              "      filter: drop-shadow(0px 1px 2px rgba(0, 0, 0, 0.3));\n",
              "      fill: #FFFFFF;\n",
              "    }\n",
              "  </style>\n",
              "\n",
              "      <script>\n",
              "        const buttonEl =\n",
              "          document.querySelector('#df-c88b884a-b79c-4466-9627-d50c414b145f button.colab-df-convert');\n",
              "        buttonEl.style.display =\n",
              "          google.colab.kernel.accessAllowed ? 'block' : 'none';\n",
              "\n",
              "        async function convertToInteractive(key) {\n",
              "          const element = document.querySelector('#df-c88b884a-b79c-4466-9627-d50c414b145f');\n",
              "          const dataTable =\n",
              "            await google.colab.kernel.invokeFunction('convertToInteractive',\n",
              "                                                     [key], {});\n",
              "          if (!dataTable) return;\n",
              "\n",
              "          const docLinkHtml = 'Like what you see? Visit the ' +\n",
              "            '<a target=\"_blank\" href=https://colab.research.google.com/notebooks/data_table.ipynb>data table notebook</a>'\n",
              "            + ' to learn more about interactive tables.';\n",
              "          element.innerHTML = '';\n",
              "          dataTable['output_type'] = 'display_data';\n",
              "          await google.colab.output.renderOutput(dataTable, element);\n",
              "          const docLink = document.createElement('div');\n",
              "          docLink.innerHTML = docLinkHtml;\n",
              "          element.appendChild(docLink);\n",
              "        }\n",
              "      </script>\n",
              "    </div>\n",
              "  </div>\n",
              "  "
            ]
          },
          "metadata": {},
          "execution_count": 31
        }
      ],
      "metadata": {
        "colab": {
          "base_uri": "https://localhost:8080/",
          "height": 527
        },
        "id": "VASa_wrMCFxY",
        "outputId": "6c7dc9be-b78b-4a67-ceb9-9a0eb75e4860"
      }
    },
    {
      "cell_type": "code",
      "execution_count": null,
      "source": [
        "print(df_main.columns)"
      ],
      "outputs": [
        {
          "output_type": "stream",
          "name": "stdout",
          "text": [
            "Index(['MAX_TEMP', 'MIN_TEMP', 'RAINFALL_24_HRS', 'Weather_Pred'], dtype='object')\n"
          ]
        }
      ],
      "metadata": {
        "colab": {
          "base_uri": "https://localhost:8080/"
        },
        "id": "h3jSeviZJNr4",
        "outputId": "b42f6768-fff3-4704-c8a3-10893c416e25"
      }
    },
    {
      "cell_type": "code",
      "execution_count": null,
      "source": [
        "df_main[['RAINFALL_24_HRS', 'Weather_Pred']].plot()"
      ],
      "outputs": [
        {
          "output_type": "execute_result",
          "data": {
            "text/plain": [
              "<Axes: >"
            ]
          },
          "metadata": {},
          "execution_count": 33
        },
        {
          "output_type": "display_data",
          "data": {
            "text/plain": [
              "<Figure size 640x480 with 1 Axes>"
            ],
            "image/png": "[encoded data removed]"
          },
          "metadata": {}
        }
      ],
      "metadata": {
        "colab": {
          "base_uri": "https://localhost:8080/",
          "height": 447
        },
        "id": "FrbkLmpNChwn",
        "outputId": "536f2fd3-7b90-46e3-d208-6be4fe4fdc4a"
      }
    },
    {
      "cell_type": "code",
      "source": [],
      "metadata": {
        "id": "LavQR3CQZI2A"
      },
      "execution_count": null,
      "outputs": []
    }
  ]
}